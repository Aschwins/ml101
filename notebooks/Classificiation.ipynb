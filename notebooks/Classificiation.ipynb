{
 "cells": [
  {
   "cell_type": "code",
   "execution_count": null,
   "id": "f670105f-c178-477e-a560-b6a28370509a",
   "metadata": {},
   "outputs": [],
   "source": [
    "from sklearn.datasets import make_classification\n",
    "from sklearn.linear_model import LogisticRegression\n",
    "from sklearn.metrics import accuracy_score, confusion_matrix\n",
    "import seaborn as sns\n",
    "\n",
    "# Generate synthetic cell data\n",
    "X, y = make_classification(n_samples=200, n_features=2, n_classes=2, \n",
    "                          n_redundant=0, n_clusters_per_class=1,\n",
    "                          class_names=['Healthy', 'Diseased'],\n",
    "                          random_state=42)\n",
    "\n",
    "# Split and train\n",
    "X_train, X_test, y_train, y_test = train_test_split(X, y, test_size=0.25)\n",
    "clf = LogisticRegression()\n",
    "clf.fit(X_train, y_train)\n",
    "\n",
    "# Evaluate\n",
    "y_pred = clf.predict(X_test)\n",
    "print(f\"Accuracy: {accuracy_score(y_test, y_pred):.2f}\")\n",
    "\n",
    "# Visualize decision boundary\n",
    "xx, yy = np.mgrid[-3:3:.01, -3:3:.01]\n",
    "grid = np.c_[xx.ravel(), yy.ravel()]\n",
    "probs = clf.predict_proba(grid)[:, 1].reshape(xx.shape)\n",
    "\n",
    "plt.contourf(xx, yy, probs > 0.5, alpha=0.2)\n",
    "plt.scatter(X[:,0], X[:,1], c=y, edgecolor='black')\n",
    "plt.xlabel('Feature 1 (e.g., Size)')\n",
    "plt.ylabel('Feature 2 (e.g., Intensity)')\n",
    "plt.show()"
   ]
  }
 ],
 "metadata": {
  "kernelspec": {
   "display_name": "Python 3 (ipykernel)",
   "language": "python",
   "name": "python3"
  },
  "language_info": {
   "codemirror_mode": {
    "name": "ipython",
    "version": 3
   },
   "file_extension": ".py",
   "mimetype": "text/x-python",
   "name": "python",
   "nbconvert_exporter": "python",
   "pygments_lexer": "ipython3",
   "version": "3.12.3"
  }
 },
 "nbformat": 4,
 "nbformat_minor": 5
}
