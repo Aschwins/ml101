{
 "cells": [
  {
   "cell_type": "markdown",
   "metadata": {},
   "source": [
    "# Prerequisites\n",
    "\n",
    "1. [git](https://git-scm.com/downloads/win) (github | bitbucket)\n",
    "2. python (with [uv](https://docs.astral.sh/uv/getting-started/installation/))"
   ]
  },
  {
   "cell_type": "markdown",
   "metadata": {},
   "source": [
    "# Plan (1h)\n",
    "\n",
    "1. Basic statistics (10min)\n",
    "2. Basic Machine Learning (20min)\n",
    "3. Practical Examples (my current ML projects) (20min)\n",
    "4. Q&A (10min)"
   ]
  },
  {
   "cell_type": "markdown",
   "metadata": {},
   "source": [
    "# Resources\n",
    "\n",
    "1. [Python for Data Science Handbook](https://jakevdp.github.io/PythonDataScienceHandbook/)  (friendly)\n",
    "2. [Elements of Statistical Learning](https://web.stanford.edu/~hastie/ElemStatLearn/)  (hardcore)\n",
    "3. [Awesome Data Science](https://github.com/krzjoa/awesome-python-data-science#readme)  (curated list)\n",
    "\n",
    "4. Cloudy with a Chance of Code"
   ]
  },
  {
   "cell_type": "markdown",
   "metadata": {},
   "source": []
  }
 ],
 "metadata": {
  "kernelspec": {
   "display_name": "Python 3 (ipykernel)",
   "language": "python",
   "name": "python3"
  },
  "language_info": {
   "codemirror_mode": {
    "name": "ipython",
    "version": 3
   },
   "file_extension": ".py",
   "mimetype": "text/x-python",
   "name": "python",
   "nbconvert_exporter": "python",
   "pygments_lexer": "ipython3",
   "version": "3.12.3"
  }
 },
 "nbformat": 4,
 "nbformat_minor": 4
}
